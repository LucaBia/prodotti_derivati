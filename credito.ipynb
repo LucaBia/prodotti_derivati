{
 "cells": [
  {
   "cell_type": "markdown",
   "metadata": {},
   "source": [
    "# Parte I\n",
    "<b>Considerando come trading date il 20-Dec-2022, si prendano due CDS standardizzati (rolling su date unadjusted ‘credit IMM’): il primo con maturity 3Y (20/Dec/2025), il secondo con maturity 5Y (20/Dec/2027). Entrambi i CDS abbiano una cedola contrattuale annualizzata pari all’1% del nozionale e si ipotizzi per il contratto una recovery convenzionale pari al 40%. Si ipotizzi inoltre che la curva dei tassi di interesse sia deterministica con tassi zero-coupon pari al 3% annuo. Sapendo che il premio Upfront quotato dal mercato vale 6.80% del nozionale per il primo CDS e 9.60% del nozionale per il secondo</b>"
   ]
  },
  {
   "cell_type": "code",
   "execution_count": 79,
   "metadata": {},
   "outputs": [],
   "source": [
    "from scipy.optimize import fsolve\n",
    "from scipy.stats import norm\n",
    "import numpy as np\n",
    "import pandas as pd\n",
    "from scipy.integrate import quad\n",
    "import matplotlib as plt \n",
    "import math as mt\n"
   ]
  },
  {
   "cell_type": "markdown",
   "metadata": {},
   "source": [
    "## Esercizio I.I\n",
    "\n",
    "<b>Si determinino mediante ‘bootstrap’ due livelli di default intensity λ1 e λ2, validi sugli intervalli [0y,3y] e [3y,5y] rispettivamente, compatibili con tali quotazioni (per tale scopo si potrà assumere una regola ‘end-of-period’ per i pagamenti della default leg)</b>"
   ]
  },
  {
   "cell_type": "markdown",
   "metadata": {},
   "source": [
    "$$\n",
    "PV_{\\text{Default Leg}} = LGD \\times \\sum_{i=1}^{n3Y} P(t, t_i) \\left[ e^{-\\lambda_{3Y} \\cdot (t_{i-1} - t)} - e^{-\\lambda_{3Y} \\cdot (t_i - t)} \\right]\n",
    "$$"
   ]
  },
  {
   "cell_type": "markdown",
   "metadata": {},
   "source": [
    "$$\n",
    "PV_{\\text{Coupon Leg}} = s \\times \\sum_{i=1}^{n3Y} \\alpha_i \\cdot P(t, t_i) \\cdot e^{-\\lambda_{3Y} \\cdot (t_i - t)}\n",
    "$$\n"
   ]
  },
  {
   "cell_type": "markdown",
   "metadata": {},
   "source": [
    "$$\n",
    "UF^{3Y} = PV_{\\text{Default Leg}} - PV_{\\text{Coupon Leg}}\n",
    "$$"
   ]
  },
  {
   "cell_type": "markdown",
   "metadata": {},
   "source": [
    "$$\n",
    "% Definizione del valore attuale del premio upfront per il CDS a 5 anni\n",
    "PV_{\\text{upfront, 5y}}(\\lambda_{5Y}) = LGD \\left( \\sum_{i=1}^{3} P(t, t_i) \\left[ e^{-\\lambda_{3Y} \\cdot (t_{i-1} - t)} - e^{-\\lambda_{3Y} \\cdot (t_i - t)} \\right] + \\sum_{i=4}^{5} P(t, t_i) \\left[ e^{-\\lambda_{5Y} \\cdot (t_{i-1} - t)} - e^{-\\lambda_{5Y} \\cdot (t_i - t)} \\right] \\right) - s \\left( \\sum_{i=1}^{3} \\alpha_i P(t, t_i) e^{-\\lambda_{3Y} \\cdot (t_i - t)} + \\sum_{i=4}^{5} \\alpha_i P(t, t_i) e^{-\\lambda_{5Y} \\cdot (t_i - t)} \\right)\n",
    "$$"
   ]
  },
  {
   "cell_type": "markdown",
   "metadata": {},
   "source": [
    "$$\n",
    "UF^{5Y} = PV_{\\text{upfront, 5y}}(\\lambda_{5Y})\n",
    "$$"
   ]
  },
  {
   "cell_type": "code",
   "execution_count": 80,
   "metadata": {},
   "outputs": [],
   "source": [
    "r = 0.03  # Tasso di interesse zero-coupon annuale\n",
    "recovery_rate = 0.4  # Tasso di recupero\n",
    "LGD = 1 - recovery_rate  # Loss Given Default (1 - tasso di recupero)\n",
    "spread = 0.01  # Spread del CDS, cedola annuale\n",
    "upfront_3y = 0.068  # Premio upfront osservato per il CDS a 3 anni\n",
    "upfront_5y = 0.096  # Premio upfront osservato per il CDS a 5 anni\n",
    "n3Y = 3  # Numero di anni fino alla scadenza del CDS a 3 anni\n",
    "n5Y = 5  # Numero di anni fino alla scadenza del CDS a 5 anni"
   ]
  },
  {
   "cell_type": "markdown",
   "metadata": {},
   "source": [
    "Definiamo una funzione per calcolare il prezzo di un zero-coupon bond. Questo è usato per scontare i flussi di cassa futuri al valore presente."
   ]
  },
  {
   "cell_type": "code",
   "execution_count": 81,
   "metadata": {},
   "outputs": [],
   "source": [
    "# Funzione che calcola il prezzo di uno zero-coupon bond che matura al tempo t\n",
    "def zero_coupon_bond_price(r, t):\n",
    "    return np.exp(-r * t)"
   ]
  },
  {
   "cell_type": "code",
   "execution_count": 82,
   "metadata": {},
   "outputs": [],
   "source": [
    "def pv_upfront_combined(lambda_rates, r, LGD, spread_annual, upfront_3y, upfront_5y, n3Y, n5Y):\n",
    "    lambda_3Y, lambda_5Y = lambda_rates\n",
    "    year_fraction = np.array([i / 360 for i in range(1, n5Y + 1)])\n",
    "    spread = spread_annual * year_fraction\n",
    "    \n",
    "    # Flussi di cassa per i primi 3 anni con lambda_3Y\n",
    "    pv_loss_3y = sum([zero_coupon_bond_price(r, i) * (np.exp(-lambda_3Y * (i - 1)) - np.exp(-lambda_3Y * i)) for i in range(1, n3Y + 1)])\n",
    "    pv_coupon_3y = sum([spread[i-1] * zero_coupon_bond_price(r, i) * np.exp(-lambda_3Y * i) for i in range(1, n3Y + 1)])\n",
    "    pv_upfront_3y = LGD * pv_loss_3y - pv_coupon_3y\n",
    "\n",
    "    # Flussi di cassa per gli anni 3-5 con lambda_5Y\n",
    "    pv_loss_5y = sum([zero_coupon_bond_price(r, i) * (np.exp(-lambda_5Y * (i - 1)) - np.exp(-lambda_5Y * i)) for i in range(n3Y + 1, n5Y + 1)])\n",
    "    pv_coupon_5y = sum([spread[i-1] * zero_coupon_bond_price(r, i) * np.exp(-lambda_5Y * i) for i in range(n3Y + 1, n5Y + 1)])\n",
    "    pv_upfront_5y = LGD * pv_loss_5y - pv_coupon_5y\n",
    "\n",
    "    return np.array([upfront_3y - pv_upfront_3y, upfront_5y - (pv_upfront_3y + pv_upfront_5y)])\n"
   ]
  },
  {
   "cell_type": "code",
   "execution_count": 83,
   "metadata": {},
   "outputs": [],
   "source": [
    "lambda_initial_guesses = [0.1, 0.1]\n",
    "lambda_solutions = fsolve(pv_upfront_combined, lambda_initial_guesses, args=(r, LGD, spread, upfront_3y, upfront_5y, 3, 5))"
   ]
  },
  {
   "cell_type": "code",
   "execution_count": 84,
   "metadata": {},
   "outputs": [
    {
     "data": {
      "text/html": [
       "<style type=\"text/css\">\n",
       "</style>\n",
       "<table id=\"T_dad27\">\n",
       "  <caption>Default Intensity</caption>\n",
       "  <thead>\n",
       "    <tr>\n",
       "      <th class=\"blank level0\" >&nbsp;</th>\n",
       "      <th id=\"T_dad27_level0_col0\" class=\"col_heading level0 col0\" >λ1</th>\n",
       "      <th id=\"T_dad27_level0_col1\" class=\"col_heading level0 col1\" >λ2</th>\n",
       "    </tr>\n",
       "  </thead>\n",
       "  <tbody>\n",
       "    <tr>\n",
       "      <th id=\"T_dad27_level0_row0\" class=\"row_heading level0 row0\" >0</th>\n",
       "      <td id=\"T_dad27_row0_col0\" class=\"data row0 col0\" >0.042782</td>\n",
       "      <td id=\"T_dad27_row0_col1\" class=\"data row0 col1\" >0.030342</td>\n",
       "    </tr>\n",
       "  </tbody>\n",
       "</table>\n"
      ],
      "text/plain": [
       "<pandas.io.formats.style.Styler at 0x29fe5e690>"
      ]
     },
     "execution_count": 84,
     "metadata": {},
     "output_type": "execute_result"
    }
   ],
   "source": [
    "lambda_3Y, lambda_5Y = lambda_solutions\n",
    "\n",
    "\n",
    "data = [[lambda_3Y, lambda_5Y]] \n",
    "df = pd.DataFrame(data, columns=['λ1', 'λ2'])\n",
    "df = df.style.set_caption('Default Intensity')\n",
    "df"
   ]
  },
  {
   "cell_type": "markdown",
   "metadata": {},
   "source": [
    "Per verificare l'accuratezza dei valori di $\\lambda$ calcolati per i CDS a 3 anni e a 5 anni, abbiamo implementato una funzione aggiuntiva non esplicitamente richiesta dal problema originale. Questa funzione, denominata `calculate_upfront`, utilizza $\\lambda$ ottenuti per calcolare il valore dell'upfront dei CDS, che poi viene confrontato con i valori di upfront forniti nel problema.\n",
    "\n",
    "L'obiettivo di questa verifica è assicurarsi che i $\\lambda$ calcolati siano corretti e che i metodi utilizzati per la loro determinazione siano validi. I valori di upfront calcolati per i CDS a 3 anni e a 5 anni sono risultati rispettivamente di circa $0.068$ e $0.096$, molto vicini ai valori forniti dal problema ($0.068$) per il CDS a 3 anni e $0.096$ per il CDS a 5 anni.\n",
    "\n",
    "Questa corrispondenza tra i valori calcolati e quelli forniti conferma che i  $\\lambda$ determinati sono accurati. La coerenza tra i valori di upfront calcolati e quelli osservati indica che l'approccio adottato per il calcolo dei $\\lambda$ è corretto e che i valori ottenuti sono affidabili."
   ]
  },
  {
   "cell_type": "code",
   "execution_count": 85,
   "metadata": {},
   "outputs": [],
   "source": [
    "def calculate_upfront(lambda_3Y, lambda_5Y, r, LGD, spread_annual, n3Y, n5Y):\n",
    "    year_fraction = np.array([i / 360 for i in range(1, n5Y + 1)])\n",
    "    spread = spread_annual * year_fraction\n",
    "    \n",
    "    pv_loss_3y = sum([zero_coupon_bond_price(r, i) * (np.exp(-lambda_3Y * (i - 1)) - np.exp(-lambda_3Y * i)) for i in range(1, n3Y + 1)])\n",
    "    pv_coupon_3y = sum([spread[i-1] * zero_coupon_bond_price(r, i) * np.exp(-lambda_3Y * i) for i in range(1, n3Y + 1)])\n",
    "    \n",
    "    pv_loss_5y = sum([zero_coupon_bond_price(r, i) * (np.exp(-lambda_5Y * (i - 1)) - np.exp(-lambda_5Y * i)) for i in range(n3Y + 1, n5Y + 1)])\n",
    "    pv_coupon_5y = sum([spread[i-1] * zero_coupon_bond_price(r, i) * np.exp(-lambda_5Y * i) for i in range(n3Y + 1, n5Y + 1)])\n",
    "    \n",
    "    upfront_calculated = LGD * (pv_loss_3y + pv_loss_5y) - (pv_coupon_3y + pv_coupon_5y)\n",
    "\n",
    "    return upfront_calculated"
   ]
  },
  {
   "cell_type": "code",
   "execution_count": 86,
   "metadata": {},
   "outputs": [],
   "source": [
    "# Calcoliamo l'upfront\n",
    "upfront_calculated_3y = calculate_upfront(lambda_3Y, lambda_5Y, r, LGD, spread, 3, 3)  # per 3 anni usando solo lambda_3Y\n",
    "upfront_calculated_5y = calculate_upfront(lambda_3Y, lambda_5Y, r, LGD, spread, 3, 5)  # per 5 anni usando entrambi i lambda"
   ]
  },
  {
   "cell_type": "code",
   "execution_count": 87,
   "metadata": {},
   "outputs": [
    {
     "data": {
      "text/html": [
       "<style type=\"text/css\">\n",
       "</style>\n",
       "<table id=\"T_811ac\">\n",
       "  <caption>Calcolo Upfront</caption>\n",
       "  <thead>\n",
       "    <tr>\n",
       "      <th class=\"blank level0\" >&nbsp;</th>\n",
       "      <th id=\"T_811ac_level0_col0\" class=\"col_heading level0 col0\" > </th>\n",
       "      <th id=\"T_811ac_level0_col1\" class=\"col_heading level0 col1\" >Upfront calcolato</th>\n",
       "      <th id=\"T_811ac_level0_col2\" class=\"col_heading level0 col2\" >Upfront fornito</th>\n",
       "      <th id=\"T_811ac_level0_col3\" class=\"col_heading level0 col3\" >Differenza</th>\n",
       "    </tr>\n",
       "  </thead>\n",
       "  <tbody>\n",
       "    <tr>\n",
       "      <th id=\"T_811ac_level0_row0\" class=\"row_heading level0 row0\" >0</th>\n",
       "      <td id=\"T_811ac_row0_col0\" class=\"data row0 col0\" >Upfront 3 anni</td>\n",
       "      <td id=\"T_811ac_row0_col1\" class=\"data row0 col1\" >0.068000</td>\n",
       "      <td id=\"T_811ac_row0_col2\" class=\"data row0 col2\" >0.068000</td>\n",
       "      <td id=\"T_811ac_row0_col3\" class=\"data row0 col3\" >-0.000000000000013</td>\n",
       "    </tr>\n",
       "    <tr>\n",
       "      <th id=\"T_811ac_level0_row1\" class=\"row_heading level0 row1\" >1</th>\n",
       "      <td id=\"T_811ac_row1_col0\" class=\"data row1 col0\" >Upfront 5 anni</td>\n",
       "      <td id=\"T_811ac_row1_col1\" class=\"data row1 col1\" >0.096000</td>\n",
       "      <td id=\"T_811ac_row1_col2\" class=\"data row1 col2\" >0.096000</td>\n",
       "      <td id=\"T_811ac_row1_col3\" class=\"data row1 col3\" >0.000000000000139</td>\n",
       "    </tr>\n",
       "  </tbody>\n",
       "</table>\n"
      ],
      "text/plain": [
       "<pandas.io.formats.style.Styler at 0x29fe5dd50>"
      ]
     },
     "execution_count": 87,
     "metadata": {},
     "output_type": "execute_result"
    }
   ],
   "source": [
    "data = [['Upfront 3 anni', upfront_calculated_3y, upfront_3y, '%.15f' % (upfront_calculated_3y - upfront_3y)],\n",
    "        ['Upfront 5 anni', upfront_calculated_5y, upfront_5y, '%.15f' % (upfront_calculated_5y - upfront_5y)]] \n",
    "df = pd.DataFrame(data, columns=[' ', 'Upfront calcolato', 'Upfront fornito', 'Differenza'])\n",
    "df = df.style.set_caption('Calcolo Upfront')\n",
    "df"
   ]
  },
  {
   "cell_type": "markdown",
   "metadata": {},
   "source": [
    "\n",
    "## Esercizio I.II \n",
    "<b>Si calcolino le probabilità di sopravvivenza a 1y, 2y, 3y, 4y, 5y.</b>"
   ]
  },
  {
   "cell_type": "markdown",
   "metadata": {},
   "source": [
    "$$\n",
    "% Calcolo della probabilità di sopravvivenza fino a un certo tempo T\n",
    "\\text{Surv}(T) = \n",
    "\\begin{cases} \n",
    "e^{-\\lambda_{3Y} \\cdot T}, & \\text{se } T \\leq 3 \\\\\n",
    "e^{-\\lambda_{3Y} \\cdot 3} \\cdot e^{-\\lambda_{5Y} \\cdot (T - 3)}, & \\text{se } T > 3 \n",
    "\\end{cases}\n",
    "\n",
    "$$"
   ]
  },
  {
   "cell_type": "markdown",
   "metadata": {},
   "source": [
    "Questa formula fornisce la rappresentazione matematica di come calcoliamo la probabilità di sopravvivenza per il CDS, sia per i primi tre anni utilizzando \n",
    "$\\lambda_{3Y}$ sia per gli anni successivi fino a cinque anni utilizzando $\\lambda_{5Y}$"
   ]
  },
  {
   "cell_type": "markdown",
   "metadata": {},
   "source": [
    "$$\n",
    "\\text{Probabilità di sopravvivenza a 1 anno} = e^{-\\lambda_{3Y} \\cdot 1}\\\\\n",
    "\\text{Probabilità di sopravvivenza a 2 anni} = e^{-\\lambda_{3Y} \\cdot 2}\\\\\n",
    "\\text{Probabilità di sopravvivenza a 3 anni} = e^{-\\lambda_{3Y} \\cdot 3}\\\\\n",
    "\\text{Probabilità di sopravvivenza a 4 anni} = e^{-\\lambda_{3Y} \\cdot 3} \\cdot e^{-\\lambda_{5Y} \\cdot (4 - 3)}\\\\\n",
    "\\text{Probabilità di sopravvivenza a 5 anni} = e^{-\\lambda_{3Y} \\cdot 3} \\cdot e^{-\\lambda_{5Y} \\cdot (5 - 3)}\n",
    "$$\n",
    "\n"
   ]
  },
  {
   "cell_type": "markdown",
   "metadata": {},
   "source": [
    "Utilizziamo la proprietà dei logaritmi e degli esponenziali per combinare le probabilità di sopravvivenza in intervalli di tempo consecutivi, assumendo che l'intensità di default sia costante in ciascun intervallo. Questo ci permette di calcolare la probabilità complessiva che la controparte sopravviva senza default fino al tempo $T$, dato che ha sopravvissuto fino a 3 anni, e poi calcolare la probabilità che continui a sopravvivere fino a $T$ utilizzando $\\lambda_{5Y}$"
   ]
  },
  {
   "cell_type": "code",
   "execution_count": 88,
   "metadata": {},
   "outputs": [],
   "source": [
    "# Funzione per calcolare la probabilità di sopravvivenza fino a un certo tempo T\n",
    "def calculate_survival_probability(lambda_1, lambda_2, T, n3Y):\n",
    "    # Se T è entro i primi 3 anni, usiamo solo lambda_1 (lambda_3Y)\n",
    "    if T <= n3Y:\n",
    "        return np.exp(-lambda_1 * T) # Equivale a e^(-∫ from 0 to T of lambda_1 dt)\n",
    "    # Altrimenti, usiamo lambda_1 per i primi 3 anni e lambda_2 (lambda_5Y) per i restanti anni fino a T\n",
    "    else:\n",
    "        return np.exp(-lambda_1 * n3Y) * np.exp(-lambda_2 * (T - n3Y)) # Equivale a e^(-∫ from 0 to 3 of lambda_1 dt) * e^(-∫ from 3 to T of lambda_2 dt)"
   ]
  },
  {
   "cell_type": "code",
   "execution_count": 89,
   "metadata": {},
   "outputs": [],
   "source": [
    "# Calcoliamo le probabilità di sopravvivenza per ciascun anno\n",
    "prob_survival_1y = calculate_survival_probability(lambda_3Y, lambda_5Y, 1, n3Y)\n",
    "prob_survival_2y = calculate_survival_probability(lambda_3Y, lambda_5Y, 2, n3Y)\n",
    "prob_survival_3y = calculate_survival_probability(lambda_3Y, lambda_5Y, 3, n3Y)\n",
    "prob_survival_4y = calculate_survival_probability(lambda_3Y, lambda_5Y, 4, n3Y)\n",
    "prob_survival_5y = calculate_survival_probability(lambda_3Y, lambda_5Y, 5, n3Y)"
   ]
  },
  {
   "cell_type": "code",
   "execution_count": 90,
   "metadata": {},
   "outputs": [
    {
     "data": {
      "text/html": [
       "<style type=\"text/css\">\n",
       "</style>\n",
       "<table id=\"T_9a7b0\">\n",
       "  <caption>Probability of survival</caption>\n",
       "  <thead>\n",
       "    <tr>\n",
       "      <th class=\"blank level0\" >&nbsp;</th>\n",
       "      <th id=\"T_9a7b0_level0_col0\" class=\"col_heading level0 col0\" >Year</th>\n",
       "      <th id=\"T_9a7b0_level0_col1\" class=\"col_heading level0 col1\" >Prob. Survival</th>\n",
       "      <th id=\"T_9a7b0_level0_col2\" class=\"col_heading level0 col2\" >% Prob. Survival</th>\n",
       "    </tr>\n",
       "  </thead>\n",
       "  <tbody>\n",
       "    <tr>\n",
       "      <th id=\"T_9a7b0_level0_row0\" class=\"row_heading level0 row0\" >0</th>\n",
       "      <td id=\"T_9a7b0_row0_col0\" class=\"data row0 col0\" >1y</td>\n",
       "      <td id=\"T_9a7b0_row0_col1\" class=\"data row0 col1\" >0.958120</td>\n",
       "      <td id=\"T_9a7b0_row0_col2\" class=\"data row0 col2\" >95.812004</td>\n",
       "    </tr>\n",
       "    <tr>\n",
       "      <th id=\"T_9a7b0_level0_row1\" class=\"row_heading level0 row1\" >1</th>\n",
       "      <td id=\"T_9a7b0_row1_col0\" class=\"data row1 col0\" >2y</td>\n",
       "      <td id=\"T_9a7b0_row1_col1\" class=\"data row1 col1\" >0.917994</td>\n",
       "      <td id=\"T_9a7b0_row1_col2\" class=\"data row1 col2\" >91.799402</td>\n",
       "    </tr>\n",
       "    <tr>\n",
       "      <th id=\"T_9a7b0_level0_row2\" class=\"row_heading level0 row2\" >2</th>\n",
       "      <td id=\"T_9a7b0_row2_col0\" class=\"data row2 col0\" >3y</td>\n",
       "      <td id=\"T_9a7b0_row2_col1\" class=\"data row2 col1\" >0.879548</td>\n",
       "      <td id=\"T_9a7b0_row2_col2\" class=\"data row2 col2\" >87.954846</td>\n",
       "    </tr>\n",
       "    <tr>\n",
       "      <th id=\"T_9a7b0_level0_row3\" class=\"row_heading level0 row3\" >3</th>\n",
       "      <td id=\"T_9a7b0_row3_col0\" class=\"data row3 col0\" >4y</td>\n",
       "      <td id=\"T_9a7b0_row3_col1\" class=\"data row3 col1\" >0.853262</td>\n",
       "      <td id=\"T_9a7b0_row3_col2\" class=\"data row3 col2\" >85.326238</td>\n",
       "    </tr>\n",
       "    <tr>\n",
       "      <th id=\"T_9a7b0_level0_row4\" class=\"row_heading level0 row4\" >4</th>\n",
       "      <td id=\"T_9a7b0_row4_col0\" class=\"data row4 col0\" >5y</td>\n",
       "      <td id=\"T_9a7b0_row4_col1\" class=\"data row4 col1\" >0.827762</td>\n",
       "      <td id=\"T_9a7b0_row4_col2\" class=\"data row4 col2\" >82.776189</td>\n",
       "    </tr>\n",
       "  </tbody>\n",
       "</table>\n"
      ],
      "text/plain": [
       "<pandas.io.formats.style.Styler at 0x29fe5f510>"
      ]
     },
     "execution_count": 90,
     "metadata": {},
     "output_type": "execute_result"
    }
   ],
   "source": [
    "data = [['1y', prob_survival_1y, prob_survival_1y*100],\n",
    "        ['2y', prob_survival_2y, prob_survival_2y*100],\n",
    "        ['3y', prob_survival_3y, prob_survival_3y*100], \n",
    "        ['4y', prob_survival_4y, prob_survival_4y*100], \n",
    "        ['5y', prob_survival_5y, prob_survival_5y*100]] \n",
    "df = pd.DataFrame(data, columns=['Year', 'Prob. Survival', '% Prob. Survival'])\n",
    "df = df.style.set_caption('Probability of survival')\n",
    "df\n"
   ]
  },
  {
   "cell_type": "markdown",
   "metadata": {},
   "source": [
    "---"
   ]
  },
  {
   "cell_type": "markdown",
   "metadata": {},
   "source": [
    "# Parte II\n",
    "<b>Sia X un sottostante con dinamica Bachelier in misura risk-neutra\n",
    "dove σX è una costante positiva, e WX è un moto Browniano standard sotto Q. Si assuma il punto di vista di una banca che stipula un forward su X, ovvero un contratto secondo cui ad una data futura T la banca ricever`a XT pagando uno strike prefissato K. Si ipotizzi che la controparte sia il nome sottostante i CDS della Parte I, che abbia una frazione di loss given default attesa lgd, e che con essa non sia attivo nessun accordo di collateralizzazione.</b>"
   ]
  },
  {
   "cell_type": "markdown",
   "metadata": {},
   "source": [
    "## Parte II.I\n",
    "<b>Supponendo che la banca non abbia altri contratti in essere con la contropar- te, si scriva una formula per il Credit Valuation Adjustment unilaterale per unità di sottostante, esplicita a meno di un integrale, e la si implementi per approssimare numericamente il CVA della posizione al tempo 0, per i seguenti valori dei parametri (y indica l’unità di misura “anni”):\n",
    "\n",
    "- lgd = 60%\n",
    "- X0 = 2000 EUR\n",
    "- σX = 300 EUR y−1/2\n",
    "- K=1900EUR\n",
    "- T=1y.</b>"
   ]
  },
  {
   "cell_type": "code",
   "execution_count": 91,
   "metadata": {},
   "outputs": [],
   "source": [
    "# Parametri principali del problema\n",
    "lgd = 0.60  # Loss given default\n",
    "X_0 = 2000  # Valore iniziale del sottostante\n",
    "k = 1900  # Strike price del forward\n",
    "sigma = 300  # Volatilità annuale\n",
    "T = 1  # Maturità in anni\n",
    "r = 0.03  # Tasso risk-free annuale\n",
    "lambda_3Y = 0.0428  # Intensità del processo di Poisson per il default\n",
    "t = 0"
   ]
  },
  {
   "cell_type": "markdown",
   "metadata": {},
   "source": [
    "La formula per il prezzo di un derivato secondo la dinamica di Bachelier è:\n",
    "\n",
    "$ \\text{Prezzo} = (S - K) \\cdot \\Phi(d) + \\sigma \\sqrt{T - t} \\cdot \\phi(d) $\n",
    "<br>\n",
    "<br>\n",
    "   dove \n",
    "   - $ d = \\frac{S - K}{\\sigma \\sqrt{T - t}} $\n",
    "   - $S$ è il prezzo corrente del sottostante\n",
    "   - $K$ è il prezzo di esercizio \n",
    "   - $\\sigma$ è la volatilità, \n",
    "   - $T$ è il tempo alla scadenza\n",
    "   - $t$ è il tempo corrente, \n",
    "   - $\\Phi$ è la funzione di distribuzione cumulativa della normale standard \n",
    "   - $\\phi$ è la funzione di densità di probabilità della normale standard."
   ]
  },
  {
   "cell_type": "code",
   "execution_count": 92,
   "metadata": {},
   "outputs": [],
   "source": [
    "def bachelier(X_0, k, sigma, T, tempo):\n",
    "    d1 = (X_0 - k) / (sigma * np.sqrt(T - tempo))\n",
    "    return (X_0 - k) * norm.cdf(d1) + sigma * np.sqrt(T - tempo) * norm.pdf(d1)"
   ]
  },
  {
   "cell_type": "markdown",
   "metadata": {},
   "source": [
    "L'integranda usata per calcolare il CVA (closed formula) è:\n",
    "<br>\n",
    "<br>\n",
    "$\\int_t^T e^{-r s} \\cdot \\text{Prezzo}(s) \\cdot \\lambda \\cdot e^{-\\lambda s} \\, ds$\n",
    "<br>\n",
    "<br>\n",
    "dove \n",
    "- $r$ è il tasso risk-free\n",
    "- $\\lambda$ è l'intensità del processo di Poisson per il default\n",
    "- $\\text{Prezzo}(s)$ è il prezzo del derivato calcolato secondo la dinamica di Bachelier al tempo $s$"
   ]
  },
  {
   "cell_type": "code",
   "execution_count": 93,
   "metadata": {},
   "outputs": [],
   "source": [
    "def integranda_cva(tempo, X_0, k, sigma, T, r, lambda_3Y):\n",
    "    return np.exp(-r * tempo) * bachelier(X_0, k, sigma, T, tempo) * lambda_3Y * np.exp(-lambda_3Y * tempo)"
   ]
  },
  {
   "cell_type": "markdown",
   "metadata": {},
   "source": [
    "Il CVA (closed formula) è dato da:\n",
    "<br>\n",
    "<br>\n",
    "$\\text{CVA} = -\\text{LGD} \\cdot \\int_t^T e^{-r s} \\cdot \\text{Prezzo}(s) \\cdot \\lambda \\cdot e^{-\\lambda s} \\, ds $"
   ]
  },
  {
   "cell_type": "code",
   "execution_count": 94,
   "metadata": {},
   "outputs": [],
   "source": [
    "def cva(lgd, X_0, k, sigma, T, r, lambda_3Y, t):\n",
    "    cva, _ = quad(integranda_cva, t, T, args=(X_0, k, sigma, T, r, lambda_3Y))\n",
    "    return -lgd * cva"
   ]
  },
  {
   "cell_type": "code",
   "execution_count": 95,
   "metadata": {},
   "outputs": [
    {
     "name": "stdout",
     "output_type": "stream",
     "text": [
      "Valore analitico CVA: -3.5128 EUR\n"
     ]
    }
   ],
   "source": [
    "# CVA closed formula\n",
    "cva_analitico = cva(lgd, X_0, k, sigma, T, r, lambda_3Y, t)\n",
    "print(f\"Valore analitico CVA: {cva_analitico:.4f} EUR\")"
   ]
  },
  {
   "cell_type": "markdown",
   "metadata": {},
   "source": [
    "## Parte II.II\n",
    "<b>Per controllo, si calcoli un intervallo di confidenza al 98% per il CVA simulando 100,000 realizzazioni indipendenti del sottostante e dei tempi di fallimento.</b>"
   ]
  },
  {
   "cell_type": "markdown",
   "metadata": {},
   "source": [
    "I tempi di default sono simulati secondo un processo esponenziale, che è l'inverso del processo di Poisson:\n",
    "<br>\n",
    "<br>\n",
    "$\\tau_i = -\\frac{1}{\\lambda} \\ln(U_i)$\n",
    "<br>\n",
    "<br>\n",
    "dove \n",
    "- $U_i$ è una variabile casuale uniformemente distribuita tra 0 e 1\n",
    "- $\\tau_i$ è il tempo di default simulato"
   ]
  },
  {
   "cell_type": "code",
   "execution_count": 96,
   "metadata": {},
   "outputs": [],
   "source": [
    "# Simula i tempi di default secondo un processo di Poisson\n",
    "def tempi_default(lambda_3Y, num_simulazioni):\n",
    "    return np.random.exponential(1/lambda_3Y, num_simulazioni)"
   ]
  },
  {
   "cell_type": "markdown",
   "metadata": {},
   "source": [
    "L'intervallo di confidenza per una media campionaria con un certo livello di confidenza è:\n",
    "<br>\n",
    "<br>\n",
    "$\\left[ \\bar{X} - z_{\\frac{\\alpha}{2}} \\cdot \\frac{\\sigma}{\\sqrt{n}}, \\bar{X} + z_{\\frac{\\alpha}{2}} \\cdot \\frac{\\sigma}{\\sqrt{n}} \\right]$\n",
    "<br>\n",
    "<br>\n",
    "dove \n",
    "- $\\bar{X}$ è la media campionaria,\n",
    "- $\\sigma$ è lo scarto tipo campionario\n",
    "- $n$ è la dimensione del campione\n",
    "- $z_{\\frac{\\alpha}{2}}$ è il valore critico dalla distribuzione normale standard che corrisponde alla coda superiore di $ \\frac{\\alpha}{2}$"
   ]
  },
  {
   "cell_type": "code",
   "execution_count": 97,
   "metadata": {},
   "outputs": [],
   "source": [
    "def intervallo_confidenza(valori_simulati, livello_confidenza):\n",
    "    media = np.mean(valori_simulati)\n",
    "    scarto_tipo = np.std(valori_simulati, ddof=1)\n",
    "    z_score = norm.ppf(1 - livello_confidenza / 2)\n",
    "    margine_errore = z_score * scarto_tipo / np.sqrt(len(valori_simulati))\n",
    "    return media - margine_errore, media + margine_errore\n"
   ]
  },
  {
   "cell_type": "code",
   "execution_count": 98,
   "metadata": {},
   "outputs": [],
   "source": [
    "# Simulazione Monte Carlo\n",
    "num_simulazioni = 100000\n",
    "tempi_default_simulati = tempi_default(lambda_3Y, num_simulazioni)\n",
    "cva_simulati = [-lgd * np.exp(-r * tempo) * bachelier(X_0, k, sigma, T, tempo)\n",
    "                if tempo < T else 0 for tempo in tempi_default_simulati]"
   ]
  },
  {
   "cell_type": "code",
   "execution_count": 99,
   "metadata": {},
   "outputs": [],
   "source": [
    "# Calcolo dell'intervallo di confidenza al 98%\n",
    "livello_confidenza = 0.98\n",
    "intervallo_confidenza_cva = intervallo_confidenza(cva_simulati, livello_confidenza)"
   ]
  },
  {
   "cell_type": "code",
   "execution_count": 100,
   "metadata": {},
   "outputs": [
    {
     "name": "stdout",
     "output_type": "stream",
     "text": [
      "Valore medio CVA simulato: -3.5035 EUR\n",
      "Intervallo di confidenza al 98% per il CVA simulato: (-3.5049, -3.5022) EUR\n"
     ]
    }
   ],
   "source": [
    "print(f\"Valore medio CVA simulato: {np.mean(cva_simulati):.4f} EUR\")\n",
    "print(f\"Intervallo di confidenza al {livello_confidenza*100:.0f}% per il CVA simulato: ({intervallo_confidenza_cva[0]:.4f}, {intervallo_confidenza_cva[1]:.4f}) EUR\")"
   ]
  }
 ],
 "metadata": {
  "kernelspec": {
   "display_name": "Python 3",
   "language": "python",
   "name": "python3"
  },
  "language_info": {
   "codemirror_mode": {
    "name": "ipython",
    "version": 3
   },
   "file_extension": ".py",
   "mimetype": "text/x-python",
   "name": "python",
   "nbconvert_exporter": "python",
   "pygments_lexer": "ipython3",
   "version": "3.11.3"
  }
 },
 "nbformat": 4,
 "nbformat_minor": 2
}
