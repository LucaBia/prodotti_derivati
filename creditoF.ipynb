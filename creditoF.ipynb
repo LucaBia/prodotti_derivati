{
 "cells": [
  {
   "cell_type": "code",
   "execution_count": 2,
   "metadata": {},
   "outputs": [],
   "source": [
    "from scipy.optimize import fsolve\n",
    "import numpy as np"
   ]
  },
  {
   "cell_type": "markdown",
   "metadata": {},
   "source": [
    "$$\n",
    "PV_{\\text{Default Leg}} = LGD \\times \\sum_{i=1}^{n3Y} P(t, t_i) \\left[ e^{-\\lambda_{3Y} \\cdot (t_{i-1} - t)} - e^{-\\lambda_{3Y} \\cdot (t_i - t)} \\right]\n",
    "$$"
   ]
  },
  {
   "cell_type": "markdown",
   "metadata": {},
   "source": [
    "$$\n",
    "PV_{\\text{Coupon Leg}} = s \\times \\sum_{i=1}^{n3Y} \\alpha_i \\cdot P(t, t_i) \\cdot e^{-\\lambda_{3Y} \\cdot (t_i - t)}\n",
    "$$\n"
   ]
  },
  {
   "cell_type": "markdown",
   "metadata": {},
   "source": [
    "$$\n",
    "UF^{3Y} = PV_{\\text{Default Leg}} - PV_{\\text{Coupon Leg}}\n",
    "$$"
   ]
  },
  {
   "cell_type": "code",
   "execution_count": 3,
   "metadata": {},
   "outputs": [],
   "source": [
    "# Tasso di interesse zero-coupon annuale\n",
    "r = 0.03\n",
    "\n",
    "# Tasso di recupero\n",
    "recovery_rate = 0.4\n",
    "\n",
    "# Loss Given Default (1 - recovery rate)\n",
    "LGD = 1 - recovery_rate\n",
    "\n",
    "# Spread del CDS, che è pari al tasso di cedola annuale\n",
    "spread = 0.01\n",
    "\n",
    "# Numero di periodi di pagamento fino alla scadenza del CDS a 3 anni\n",
    "n3Y = 3\n",
    "\n",
    "# Premio upfront osservato per il CDS a 3 anni\n",
    "upfront_3y = 0.068\n",
    "\n",
    "upfront_5y = 0.096\n",
    "\n"
   ]
  },
  {
   "cell_type": "code",
   "execution_count": 4,
   "metadata": {},
   "outputs": [],
   "source": [
    "# Funzione che calcola il prezzo di uno zero-coupon bond che matura al tempo t\n",
    "def zero_coupon_bond_price(r, t):\n",
    "    return np.exp(-r * t)"
   ]
  },
  {
   "cell_type": "code",
   "execution_count": 5,
   "metadata": {},
   "outputs": [
    {
     "data": {
      "text/plain": [
       "5.993478603980348"
      ]
     },
     "execution_count": 5,
     "metadata": {},
     "output_type": "execute_result"
    }
   ],
   "source": [
    "# Dati aggiuntivi per il problema\n",
    "upfront_observed_3y = upfront_3y  # Premio upfront osservato per il CDS a 3 anni\n",
    "\n",
    "# Funzione che calcola il valore attuale del premio upfront per un CDS a 3 anni secondo la formula fornita\n",
    "def pv_upfront_3y_new(lambda_3Y):\n",
    "    # Calcolo del valore attuale dei flussi di cassa per la perdita data il default (LGD)\n",
    "    pv_loss = sum([zero_coupon_bond_price(r, i) * (np.exp(-lambda_3Y * (i - 1)) - np.exp(-lambda_3Y * i)) for i in range(1, n3Y + 1)])\n",
    "    \n",
    "    # Calcolo del valore attuale dei flussi di cassa dei coupon pagati\n",
    "    pv_coupon_payments = sum([spread * zero_coupon_bond_price(r, i) * np.exp(-lambda_3Y * i) for i in range(1, n3Y + 1)])\n",
    "    \n",
    "    # Valore attuale del premio upfront calcolato\n",
    "    pv_upfront_calculated = LGD * pv_loss - pv_coupon_payments\n",
    "    \n",
    "    # La differenza tra il valore attuale calcolato e il premio upfront osservato\n",
    "    return pv_upfront_calculated - upfront_observed_3y\n",
    "\n",
    "lambda_3Y_initial_guess = 0.1\n",
    "# Risolviamo per lambda_3Y che zera la funzione pv_upfront_3y_new\n",
    "lambda_3Y_solution = fsolve(pv_upfront_3y_new, lambda_3Y_initial_guess)\n",
    "\n",
    "lambda_3Y_solution[0]*100\n",
    "\n"
   ]
  },
  {
   "cell_type": "markdown",
   "metadata": {},
   "source": [
    "$$\n",
    "% Definizione del valore attuale del premio upfront per il CDS a 5 anni\n",
    "PV_{\\text{upfront, 5y}}(\\lambda_{5Y}) = LGD \\left( \\sum_{i=1}^{3} P(t, t_i) \\left[ e^{-\\lambda_{3Y} \\cdot (t_{i-1} - t)} - e^{-\\lambda_{3Y} \\cdot (t_i - t)} \\right] + \\sum_{i=4}^{5} P(t, t_i) \\left[ e^{-\\lambda_{5Y} \\cdot (t_{i-1} - t)} - e^{-\\lambda_{5Y} \\cdot (t_i - t)} \\right] \\right) - s \\left( \\sum_{i=1}^{3} \\alpha_i P(t, t_i) e^{-\\lambda_{3Y} \\cdot (t_i - t)} + \\sum_{i=4}^{5} \\alpha_i P(t, t_i) e^{-\\lambda_{5Y} \\cdot (t_i - t)} \\right)\n",
    "\\\\\n",
    "\\\\\n",
    "% Condizione che il valore attuale calcolato sia uguale al premio upfront osservato sul mercato\n",
    "UF^{5Y} = PV_{\\text{upfront, 5y}}(\\lambda_{5Y})\n",
    "$$"
   ]
  },
  {
   "cell_type": "code",
   "execution_count": 6,
   "metadata": {},
   "outputs": [
    {
     "data": {
      "text/plain": [
       "4.868322413146313"
      ]
     },
     "execution_count": 6,
     "metadata": {},
     "output_type": "execute_result"
    }
   ],
   "source": [
    "# Numero di periodi di pagamento fino alla scadenza del CDS a 5 anni\n",
    "n5Y = 5\n",
    "\n",
    "# Premio upfront osservato per il CDS a 5 anni\n",
    "upfront_observed_5y = upfront_5y  # Già definito precedentemente come 0.096\n",
    "\n",
    "# Calcoliamo il valore attuale dei flussi di cassa fino a 3 anni usando lambda_3Y trovato\n",
    "lambda_3Y = lambda_3Y_solution[0]  # Utilizziamo il lambda_3Y trovato precedentemente\n",
    "\n",
    "# Funzione per il calcolo del valore attuale del premio upfront per il CDS a 5 anni\n",
    "def pv_upfront_5y_new(lambda_5Y):\n",
    "    # Flussi di cassa fino a 3 anni, usando lambda_3Y\n",
    "    pv_loss_3y = sum([zero_coupon_bond_price(r, i) * (np.exp(-lambda_3Y * (i - 1)) - np.exp(-lambda_3Y * i)) for i in range(1, n3Y + 1)])\n",
    "    pv_coupon_payments_3y = sum([spread * zero_coupon_bond_price(r, i) * np.exp(-lambda_3Y * i) for i in range(1, n3Y + 1)])\n",
    "    \n",
    "    # Aggiungiamo i flussi di cassa dagli anni 3 a 5, usando lambda_5Y\n",
    "    pv_loss_5y = sum([zero_coupon_bond_price(r, i) * (np.exp(-lambda_5Y * (i - 1)) - np.exp(-lambda_5Y * i)) for i in range(n3Y + 1, n5Y + 1)])\n",
    "    pv_coupon_payments_5y = sum([spread * zero_coupon_bond_price(r, i) * np.exp(-lambda_5Y * i) for i in range(n3Y + 1, n5Y + 1)])\n",
    "    \n",
    "    # Valore attuale totale del premio upfront calcolato\n",
    "    pv_upfront_calculated = (LGD * (pv_loss_3y + pv_loss_5y)) - (pv_coupon_payments_3y + pv_coupon_payments_5y)\n",
    "    \n",
    "    # La differenza tra il valore attuale calcolato e il premio upfront osservato per il CDS a 5 anni\n",
    "    return pv_upfront_calculated - upfront_observed_5y\n",
    "\n",
    "# Valore iniziale stimato per lambda_5Y per iniziare la ricerca della soluzione\n",
    "lambda_5Y_initial_guess = 0.1\n",
    "\n",
    "# Utilizzo di fsolve per trovare il valore di lambda_5Y\n",
    "lambda_5Y_solution = fsolve(pv_upfront_5y_new, lambda_5Y_initial_guess)\n",
    "\n",
    "lambda_5Y_solution[0] *100 \n"
   ]
  },
  {
   "cell_type": "markdown",
   "metadata": {},
   "source": [
    "$$\n",
    "% Calcolo della probabilità di sopravvivenza fino a un certo tempo T\n",
    "\\text{Surv}(T) = \n",
    "\\begin{cases} \n",
    "e^{-\\lambda_{3Y} \\cdot T}, & \\text{se } T \\leq 3 \\\\\n",
    "e^{-\\lambda_{3Y} \\cdot 3} \\cdot e^{-\\lambda_{5Y} \\cdot (T - 3)}, & \\text{se } T > 3 \n",
    "\\end{cases}\n",
    "\n",
    "$$"
   ]
  },
  {
   "cell_type": "markdown",
   "metadata": {},
   "source": [
    "$$\n",
    "\\text{Probabilità di sopravvivenza a 1 anno} = e^{-\\lambda_{3Y} \\cdot 1}\\\\\n",
    "\\text{Probabilità di sopravvivenza a 2 anni} = e^{-\\lambda_{3Y} \\cdot 2}\\\\\n",
    "\\text{Probabilità di sopravvivenza a 3 anni} = e^{-\\lambda_{3Y} \\cdot 3}\\\\\n",
    "\\text{Probabilità di sopravvivenza a 4 anni} = e^{-\\lambda_{3Y} \\cdot 3} \\cdot e^{-\\lambda_{5Y} \\cdot (4 - 3)}\\\\\n",
    "\\text{Probabilità di sopravvivenza a 5 anni} = e^{-\\lambda_{3Y} \\cdot 3} \\cdot e^{-\\lambda_{5Y} \\cdot (5 - 3)}\n",
    "$$\n",
    "\n"
   ]
  },
  {
   "cell_type": "code",
   "execution_count": 17,
   "metadata": {},
   "outputs": [
    {
     "data": {
      "text/plain": [
       "(94.18259517816966,\n",
       " 88.70361234494986,\n",
       " 83.54336412325705,\n",
       " 79.57361783953675,\n",
       " 75.7925027621665)"
      ]
     },
     "execution_count": 17,
     "metadata": {},
     "output_type": "execute_result"
    }
   ],
   "source": [
    "\n",
    "# Funzione per calcolare la probabilità di sopravvivenza fino a un certo tempo T\n",
    "def calculate_survival_probability(lambda_1, lambda_2, T, n3Y):\n",
    "    # Se T è entro i primi 3 anni, usiamo solo lambda_1\n",
    "    if T <= n3Y:\n",
    "        return np.exp(-lambda_1 * T)\n",
    "    # Altrimenti, usiamo lambda_1 per i primi 3 anni e lambda_2 per i restanti anni fino a T\n",
    "    else:\n",
    "        return np.exp(-lambda_1 * n3Y) * np.exp(-lambda_2 * (T - n3Y))\n",
    "\n",
    "# Calcoliamo le probabilità di sopravvivenza per ciascun anno\n",
    "prob_survival_1y = calculate_survival_probability(lambda_3Y, lambda_5Y_solution[0], 1, n3Y)*100\n",
    "prob_survival_2y = calculate_survival_probability(lambda_3Y, lambda_5Y_solution[0], 2, n3Y)*100\n",
    "prob_survival_3y = calculate_survival_probability(lambda_3Y, lambda_5Y_solution[0], 3, n3Y)*100\n",
    "prob_survival_4y = calculate_survival_probability(lambda_3Y, lambda_5Y_solution[0], 4, n3Y)*100\n",
    "prob_survival_5y = calculate_survival_probability(lambda_3Y, lambda_5Y_solution[0], 5, n3Y)*100\n",
    "\n",
    "(prob_survival_1y, prob_survival_2y, prob_survival_3y, prob_survival_4y, prob_survival_5y)\n"
   ]
  },
  {
   "cell_type": "markdown",
   "metadata": {},
   "source": [
    "---"
   ]
  },
  {
   "cell_type": "code",
   "execution_count": 10,
   "metadata": {},
   "outputs": [
    {
     "data": {
      "text/plain": [
       "(0.06800000000000013, 0.09599999999999999)"
      ]
     },
     "execution_count": 10,
     "metadata": {},
     "output_type": "execute_result"
    }
   ],
   "source": [
    "# r = 0.03  # Tasso di interesse zero-coupon annuale\n",
    "# recovery_rate = 0.4  # Tasso di recupero\n",
    "# LGD = 1 - recovery_rate  # Loss Given Default\n",
    "# spread = 0.01  # Spread del CDS, che è pari al tasso di cedola annuale\n",
    "# n3Y = 3  # Numero di periodi di pagamento fino alla scadenza del CDS a 3 anni\n",
    "# n5Y = 5  # Numero di periodi di pagamento fino alla scadenza del CDS a 5 anni\n",
    "# upfront_observed_3y = 0.068  # Premio upfront osservato per il CDS a 3 anni\n",
    "# upfront_observed_5y = 0.096  # Premio upfront osservato per il CDS a 5 anni\n",
    "\n",
    "# # Definisco la funzione per il prezzo di uno zero-coupon bond\n",
    "# def zero_coupon_bond_price(r, t):\n",
    "#     return np.exp(-r * t)\n",
    "\n",
    "# Definisco la funzione per calcolare il valore attuale del premio upfront per il CDS a 3 anni\n",
    "def pv_upfront_3y(lambda_3Y):\n",
    "    pv_loss = sum([zero_coupon_bond_price(r, i) * (np.exp(-lambda_3Y * (i - 1)) - np.exp(-lambda_3Y * i)) for i in range(1, n3Y + 1)])\n",
    "    pv_cedole = sum([spread * zero_coupon_bond_price(r, i) * np.exp(-lambda_3Y * i) for i in range(1, n3Y + 1)])\n",
    "    return LGD * pv_loss - pv_cedole - upfront_observed_3y\n",
    "\n",
    "# Calcolo lambda_3Y usando fsolve\n",
    "lambda_3Y_initial_guess = 0.1\n",
    "lambda_3Y_solution = fsolve(pv_upfront_3y, lambda_3Y_initial_guess)\n",
    "lambda_3Y = lambda_3Y_solution[0]\n",
    "\n",
    "# Definisco la funzione per calcolare il valore attuale del premio upfront per il CDS a 5 anni\n",
    "def pv_upfront_5y(lambda_5Y):\n",
    "    pv_loss_3y = sum([zero_coupon_bond_price(r, i) * (np.exp(-lambda_3Y * (i - 1)) - np.exp(-lambda_3Y * i)) for i in range(1, n3Y + 1)])\n",
    "    pv_cedole_3y = sum([spread * zero_coupon_bond_price(r, i) * np.exp(-lambda_3Y * i) for i in range(1, n3Y + 1)])\n",
    "    pv_loss_5y = sum([zero_coupon_bond_price(r, i) * (np.exp(-lambda_5Y * (i - 1)) - np.exp(-lambda_5Y * i)) for i in range(n3Y + 1, n5Y + 1)])\n",
    "    pv_cedole_5y = sum([spread * zero_coupon_bond_price(r, i) * np.exp(-lambda_5Y * i) for i in range(n3Y + 1, n5Y + 1)])\n",
    "    return LGD * (pv_loss_3y + pv_loss_5y) - (pv_cedole_3y + pv_cedole_5y) - upfront_observed_5y\n",
    "\n",
    "# Calcolo lambda_5Y usando fsolve\n",
    "lambda_5Y_initial_guess = 0.1\n",
    "lambda_5Y_solution = fsolve(pv_upfront_5y, lambda_5Y_initial_guess)\n",
    "lambda_5Y = lambda_5Y_solution[0]\n",
    "\n",
    "\n",
    "# lambda_3Y, lambda_5Y \n",
    "\n",
    "# Calcolo e stampo i valori del premio upfront calcolati\n",
    "upfront_3y_calculated = pv_upfront_3y(lambda_3Y) + upfront_observed_3y\n",
    "upfront_5y_calculated = pv_upfront_5y(lambda_5Y) + upfront_observed_5y\n",
    "\n",
    "upfront_3y_calculated, upfront_5y_calculated\n"
   ]
  },
  {
   "cell_type": "code",
   "execution_count": 15,
   "metadata": {},
   "outputs": [
    {
     "data": {
      "text/plain": [
       "(5.993478603980348, 4.868322413146313)"
      ]
     },
     "execution_count": 15,
     "metadata": {},
     "output_type": "execute_result"
    }
   ],
   "source": [
    "lambda_3Y*100, lambda_5Y*100"
   ]
  },
  {
   "cell_type": "code",
   "execution_count": 12,
   "metadata": {},
   "outputs": [
    {
     "data": {
      "text/plain": [
       "(0.068, 0.06800000000000013, 1.249000902703301e-16)"
      ]
     },
     "execution_count": 12,
     "metadata": {},
     "output_type": "execute_result"
    }
   ],
   "source": [
    "upfront_observed_3y, upfront_3y_calculated, upfront_3y_calculated-upfront_observed_3y"
   ]
  },
  {
   "cell_type": "code",
   "execution_count": 13,
   "metadata": {},
   "outputs": [
    {
     "data": {
      "text/plain": [
       "(0.096, 0.09599999999999999, -1.3877787807814457e-17)"
      ]
     },
     "execution_count": 13,
     "metadata": {},
     "output_type": "execute_result"
    }
   ],
   "source": [
    "upfront_observed_5y, upfront_5y_calculated, upfront_5y_calculated-upfront_observed_5y"
   ]
  },
  {
   "cell_type": "code",
   "execution_count": null,
   "metadata": {},
   "outputs": [],
   "source": []
  }
 ],
 "metadata": {
  "kernelspec": {
   "display_name": "Python 3",
   "language": "python",
   "name": "python3"
  },
  "language_info": {
   "codemirror_mode": {
    "name": "ipython",
    "version": 3
   },
   "file_extension": ".py",
   "mimetype": "text/x-python",
   "name": "python",
   "nbconvert_exporter": "python",
   "pygments_lexer": "ipython3",
   "version": "3.11.3"
  }
 },
 "nbformat": 4,
 "nbformat_minor": 2
}
