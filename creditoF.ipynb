{
 "cells": [
  {
   "cell_type": "code",
   "execution_count": 42,
   "metadata": {},
   "outputs": [],
   "source": [
    "from scipy.optimize import fsolve\n",
    "from scipy.stats import norm\n",
    "import numpy as np\n",
    "import pandas as pd"
   ]
  },
  {
   "cell_type": "markdown",
   "metadata": {},
   "source": [
    "$$\n",
    "PV_{\\text{Default Leg}} = LGD \\times \\sum_{i=1}^{n3Y} P(t, t_i) \\left[ e^{-\\lambda_{3Y} \\cdot (t_{i-1} - t)} - e^{-\\lambda_{3Y} \\cdot (t_i - t)} \\right]\n",
    "$$"
   ]
  },
  {
   "cell_type": "markdown",
   "metadata": {},
   "source": [
    "$$\n",
    "PV_{\\text{Coupon Leg}} = s \\times \\sum_{i=1}^{n3Y} \\alpha_i \\cdot P(t, t_i) \\cdot e^{-\\lambda_{3Y} \\cdot (t_i - t)}\n",
    "$$\n"
   ]
  },
  {
   "cell_type": "markdown",
   "metadata": {},
   "source": [
    "$$\n",
    "UF^{3Y} = PV_{\\text{Default Leg}} - PV_{\\text{Coupon Leg}}\n",
    "$$"
   ]
  },
  {
   "cell_type": "code",
   "execution_count": 43,
   "metadata": {},
   "outputs": [],
   "source": [
    "# Definizione dei parametri del problema\n",
    "r = 0.03  # Tasso di interesse zero-coupon annuale\n",
    "recovery_rate = 0.4  # Tasso di recupero\n",
    "LGD = 1 - recovery_rate  # Loss Given Default (1 - tasso di recupero)\n",
    "spread = 0.01  # Spread del CDS, cedola annuale\n",
    "n3Y = 3  # Numero di anni fino alla scadenza del CDS a 3 anni\n",
    "n5Y = 5  # Numero di anni fino alla scadenza del CDS a 5 anni\n",
    "upfront_3y = 0.068  # Premio upfront osservato per il CDS a 3 anni\n",
    "upfront_5y = 0.096  # Premio upfront osservato per il CDS a 5 anni\n"
   ]
  },
  {
   "cell_type": "markdown",
   "metadata": {},
   "source": [
    "Definiamo una funzione per calcolare il prezzo di un zero-coupon bond. Questo è usato per scontare i flussi di cassa futuri al valore presente."
   ]
  },
  {
   "cell_type": "code",
   "execution_count": 44,
   "metadata": {},
   "outputs": [],
   "source": [
    "# Funzione che calcola il prezzo di uno zero-coupon bond che matura al tempo t\n",
    "def zero_coupon_bond_price(r, t):\n",
    "    return np.exp(-r * t)"
   ]
  },
  {
   "cell_type": "code",
   "execution_count": 45,
   "metadata": {},
   "outputs": [
    {
     "data": {
      "text/plain": [
       "5.993478603980348"
      ]
     },
     "execution_count": 45,
     "metadata": {},
     "output_type": "execute_result"
    }
   ],
   "source": [
    "# Dati aggiuntivi per il problema\n",
    "upfront_observed_3y = upfront_3y  # Premio upfront osservato per il CDS a 3 anni\n",
    "\n",
    "# Funzione che calcola il valore attuale del premio upfront per un CDS a 3 anni secondo la formula fornita\n",
    "def pv_upfront_3y_new(lambda_3Y):\n",
    "    # Calcolo del valore attuale dei flussi di cassa per la perdita data il default (LGD)\n",
    "    pv_loss = sum([zero_coupon_bond_price(r, i) * (np.exp(-lambda_3Y * (i - 1)) - np.exp(-lambda_3Y * i)) for i in range(1, n3Y + 1)])\n",
    "    \n",
    "    # Calcolo del valore attuale dei flussi di cassa dei coupon pagati\n",
    "    pv_coupon_payments = sum([spread * zero_coupon_bond_price(r, i) * np.exp(-lambda_3Y * i) for i in range(1, n3Y + 1)])\n",
    "    \n",
    "    # Valore attuale del premio upfront calcolato\n",
    "    pv_upfront_calculated = LGD * pv_loss - pv_coupon_payments\n",
    "    \n",
    "    # La differenza tra il valore attuale calcolato e il premio upfront osservato\n",
    "    return pv_upfront_calculated - upfront_observed_3y\n",
    "\n",
    "lambda_3Y_initial_guess = 0.1\n",
    "# Risolviamo per lambda_3Y che zera la funzione pv_upfront_3y_new\n",
    "lambda_3Y_solution = fsolve(pv_upfront_3y_new, lambda_3Y_initial_guess)\n",
    "\n",
    "lambda_3Y_solution[0]*100\n",
    "\n"
   ]
  },
  {
   "cell_type": "markdown",
   "metadata": {},
   "source": [
    "$$\n",
    "% Definizione del valore attuale del premio upfront per il CDS a 5 anni\n",
    "PV_{\\text{upfront, 5y}}(\\lambda_{5Y}) = LGD \\left( \\sum_{i=1}^{3} P(t, t_i) \\left[ e^{-\\lambda_{3Y} \\cdot (t_{i-1} - t)} - e^{-\\lambda_{3Y} \\cdot (t_i - t)} \\right] + \\sum_{i=4}^{5} P(t, t_i) \\left[ e^{-\\lambda_{5Y} \\cdot (t_{i-1} - t)} - e^{-\\lambda_{5Y} \\cdot (t_i - t)} \\right] \\right) - s \\left( \\sum_{i=1}^{3} \\alpha_i P(t, t_i) e^{-\\lambda_{3Y} \\cdot (t_i - t)} + \\sum_{i=4}^{5} \\alpha_i P(t, t_i) e^{-\\lambda_{5Y} \\cdot (t_i - t)} \\right)\n",
    "\\\\\n",
    "\\\\\n",
    "% Condizione che il valore attuale calcolato sia uguale al premio upfront osservato sul mercato\n",
    "UF^{5Y} = PV_{\\text{upfront, 5y}}(\\lambda_{5Y})\n",
    "$$"
   ]
  },
  {
   "cell_type": "code",
   "execution_count": 46,
   "metadata": {},
   "outputs": [
    {
     "data": {
      "text/plain": [
       "4.868322413146313"
      ]
     },
     "execution_count": 46,
     "metadata": {},
     "output_type": "execute_result"
    }
   ],
   "source": [
    "# Numero di periodi di pagamento fino alla scadenza del CDS a 5 anni\n",
    "n5Y = 5\n",
    "\n",
    "# Premio upfront osservato per il CDS a 5 anni\n",
    "upfront_observed_5y = upfront_5y  # Già definito precedentemente come 0.096\n",
    "\n",
    "# Calcoliamo il valore attuale dei flussi di cassa fino a 3 anni usando lambda_3Y trovato\n",
    "lambda_3Y = lambda_3Y_solution[0]  # Utilizziamo il lambda_3Y trovato precedentemente\n",
    "\n",
    "# Funzione per il calcolo del valore attuale del premio upfront per il CDS a 5 anni\n",
    "def pv_upfront_5y_new(lambda_5Y):\n",
    "    # Flussi di cassa fino a 3 anni, usando lambda_3Y\n",
    "    pv_loss_3y = sum([zero_coupon_bond_price(r, i) * (np.exp(-lambda_3Y * (i - 1)) - np.exp(-lambda_3Y * i)) for i in range(1, n3Y + 1)])\n",
    "    pv_coupon_payments_3y = sum([spread * zero_coupon_bond_price(r, i) * np.exp(-lambda_3Y * i) for i in range(1, n3Y + 1)])\n",
    "    \n",
    "    # Aggiungiamo i flussi di cassa dagli anni 3 a 5, usando lambda_5Y\n",
    "    pv_loss_5y = sum([zero_coupon_bond_price(r, i) * (np.exp(-lambda_5Y * (i - 1)) - np.exp(-lambda_5Y * i)) for i in range(n3Y + 1, n5Y + 1)])\n",
    "    pv_coupon_payments_5y = sum([spread * zero_coupon_bond_price(r, i) * np.exp(-lambda_5Y * i) for i in range(n3Y + 1, n5Y + 1)])\n",
    "    \n",
    "    # Valore attuale totale del premio upfront calcolato\n",
    "    pv_upfront_calculated = (LGD * (pv_loss_3y + pv_loss_5y)) - (pv_coupon_payments_3y + pv_coupon_payments_5y)\n",
    "    \n",
    "    # La differenza tra il valore attuale calcolato e il premio upfront osservato per il CDS a 5 anni\n",
    "    return pv_upfront_calculated - upfront_observed_5y\n",
    "\n",
    "# Valore iniziale stimato per lambda_5Y per iniziare la ricerca della soluzione\n",
    "lambda_5Y_initial_guess = 0.1\n",
    "\n",
    "# Utilizzo di fsolve per trovare il valore di lambda_5Y\n",
    "lambda_5Y_solution = fsolve(pv_upfront_5y_new, lambda_5Y_initial_guess)\n",
    "\n",
    "lambda_5Y_solution[0] *100 \n"
   ]
  },
  {
   "cell_type": "markdown",
   "metadata": {},
   "source": [
    "Questa formula fornisce la rappresentazione matematica di come calcoliamo la probabilità di sopravvivenza per il CDS, sia per i primi tre anni utilizzando \n",
    "$\\lambda_{3Y}$ sia per gli anni successivi fino a cinque anni utilizzando $\\lambda_{5Y}$"
   ]
  },
  {
   "cell_type": "markdown",
   "metadata": {},
   "source": [
    "$$\n",
    "% Calcolo della probabilità di sopravvivenza fino a un certo tempo T\n",
    "\\text{Surv}(T) = \n",
    "\\begin{cases} \n",
    "e^{-\\lambda_{3Y} \\cdot T}, & \\text{se } T \\leq 3 \\\\\n",
    "e^{-\\lambda_{3Y} \\cdot 3} \\cdot e^{-\\lambda_{5Y} \\cdot (T - 3)}, & \\text{se } T > 3 \n",
    "\\end{cases}\n",
    "\n",
    "$$"
   ]
  },
  {
   "cell_type": "markdown",
   "metadata": {},
   "source": [
    "$$\n",
    "\\text{Probabilità di sopravvivenza a 1 anno} = e^{-\\lambda_{3Y} \\cdot 1}\\\\\n",
    "\\text{Probabilità di sopravvivenza a 2 anni} = e^{-\\lambda_{3Y} \\cdot 2}\\\\\n",
    "\\text{Probabilità di sopravvivenza a 3 anni} = e^{-\\lambda_{3Y} \\cdot 3}\\\\\n",
    "\\text{Probabilità di sopravvivenza a 4 anni} = e^{-\\lambda_{3Y} \\cdot 3} \\cdot e^{-\\lambda_{5Y} \\cdot (4 - 3)}\\\\\n",
    "\\text{Probabilità di sopravvivenza a 5 anni} = e^{-\\lambda_{3Y} \\cdot 3} \\cdot e^{-\\lambda_{5Y} \\cdot (5 - 3)}\n",
    "$$\n",
    "\n"
   ]
  },
  {
   "cell_type": "markdown",
   "metadata": {},
   "source": [
    "Utilizziamo la proprietà dei logaritmi e degli esponenziali per combinare le probabilità di sopravvivenza in intervalli di tempo consecutivi, assumendo che l'intensità di default sia costante in ciascun intervallo. Questo ci permette di calcolare la probabilità complessiva che la controparte sopravviva senza default fino al tempo $T$, dato che ha sopravvissuto fino a 3 anni, e poi calcolare la probabilità che continui a sopravvivere fino a $T$ utilizzando $\\lambda_{5Y}$"
   ]
  },
  {
   "cell_type": "code",
   "execution_count": 47,
   "metadata": {},
   "outputs": [
    {
     "data": {
      "text/html": [
       "<style type=\"text/css\">\n",
       "</style>\n",
       "<table id=\"T_8bc4e\">\n",
       "  <caption>Probability of survival</caption>\n",
       "  <thead>\n",
       "    <tr>\n",
       "      <th class=\"blank level0\" >&nbsp;</th>\n",
       "      <th id=\"T_8bc4e_level0_col0\" class=\"col_heading level0 col0\" >Year</th>\n",
       "      <th id=\"T_8bc4e_level0_col1\" class=\"col_heading level0 col1\" >Prob. Survival</th>\n",
       "      <th id=\"T_8bc4e_level0_col2\" class=\"col_heading level0 col2\" >% Prob. Survival</th>\n",
       "    </tr>\n",
       "  </thead>\n",
       "  <tbody>\n",
       "    <tr>\n",
       "      <th id=\"T_8bc4e_level0_row0\" class=\"row_heading level0 row0\" >0</th>\n",
       "      <td id=\"T_8bc4e_row0_col0\" class=\"data row0 col0\" >1y</td>\n",
       "      <td id=\"T_8bc4e_row0_col1\" class=\"data row0 col1\" >0.941826</td>\n",
       "      <td id=\"T_8bc4e_row0_col2\" class=\"data row0 col2\" >94.182595</td>\n",
       "    </tr>\n",
       "    <tr>\n",
       "      <th id=\"T_8bc4e_level0_row1\" class=\"row_heading level0 row1\" >1</th>\n",
       "      <td id=\"T_8bc4e_row1_col0\" class=\"data row1 col0\" >2y</td>\n",
       "      <td id=\"T_8bc4e_row1_col1\" class=\"data row1 col1\" >0.887036</td>\n",
       "      <td id=\"T_8bc4e_row1_col2\" class=\"data row1 col2\" >88.703612</td>\n",
       "    </tr>\n",
       "    <tr>\n",
       "      <th id=\"T_8bc4e_level0_row2\" class=\"row_heading level0 row2\" >2</th>\n",
       "      <td id=\"T_8bc4e_row2_col0\" class=\"data row2 col0\" >3y</td>\n",
       "      <td id=\"T_8bc4e_row2_col1\" class=\"data row2 col1\" >0.835434</td>\n",
       "      <td id=\"T_8bc4e_row2_col2\" class=\"data row2 col2\" >83.543364</td>\n",
       "    </tr>\n",
       "    <tr>\n",
       "      <th id=\"T_8bc4e_level0_row3\" class=\"row_heading level0 row3\" >3</th>\n",
       "      <td id=\"T_8bc4e_row3_col0\" class=\"data row3 col0\" >4y</td>\n",
       "      <td id=\"T_8bc4e_row3_col1\" class=\"data row3 col1\" >0.795736</td>\n",
       "      <td id=\"T_8bc4e_row3_col2\" class=\"data row3 col2\" >79.573618</td>\n",
       "    </tr>\n",
       "    <tr>\n",
       "      <th id=\"T_8bc4e_level0_row4\" class=\"row_heading level0 row4\" >4</th>\n",
       "      <td id=\"T_8bc4e_row4_col0\" class=\"data row4 col0\" >5y</td>\n",
       "      <td id=\"T_8bc4e_row4_col1\" class=\"data row4 col1\" >0.757925</td>\n",
       "      <td id=\"T_8bc4e_row4_col2\" class=\"data row4 col2\" >75.792503</td>\n",
       "    </tr>\n",
       "  </tbody>\n",
       "</table>\n"
      ],
      "text/plain": [
       "<pandas.io.formats.style.Styler at 0x14950cf10>"
      ]
     },
     "execution_count": 47,
     "metadata": {},
     "output_type": "execute_result"
    }
   ],
   "source": [
    "# Funzione per calcolare la probabilità di sopravvivenza fino a un certo tempo T\n",
    "def calculate_survival_probability(lambda_1, lambda_2, T, n3Y):\n",
    "    # Se T è entro i primi 3 anni, usiamo solo lambda_1\n",
    "    if T <= n3Y:\n",
    "        return np.exp(-lambda_1 * T) # Equivale a e^(-∫ from 0 to T of lambda_1 dt)\n",
    "    # Altrimenti, usiamo lambda_1 per i primi 3 anni e lambda_2 per i restanti anni fino a T\n",
    "    else:\n",
    "        return np.exp(-lambda_1 * n3Y) * np.exp(-lambda_2 * (T - n3Y)) # Equivale a e^(-∫ from 0 to 3 of lambda_1 dt) * e^(-∫ from 3 to T of lambda_2 dt)\n",
    "\n",
    "# Calcoliamo le probabilità di sopravvivenza per ciascun anno\n",
    "prob_survival_1y = calculate_survival_probability(lambda_3Y, lambda_5Y_solution[0], 1, n3Y)\n",
    "prob_survival_2y = calculate_survival_probability(lambda_3Y, lambda_5Y_solution[0], 2, n3Y)\n",
    "prob_survival_3y = calculate_survival_probability(lambda_3Y, lambda_5Y_solution[0], 3, n3Y)\n",
    "prob_survival_4y = calculate_survival_probability(lambda_3Y, lambda_5Y_solution[0], 4, n3Y)\n",
    "prob_survival_5y = calculate_survival_probability(lambda_3Y, lambda_5Y_solution[0], 5, n3Y)\n",
    "\n",
    "(prob_survival_1y, prob_survival_2y, prob_survival_3y, prob_survival_4y, prob_survival_5y)\n",
    "\n",
    "\n",
    "data = [['1y', prob_survival_1y, prob_survival_1y*100],\n",
    "        ['2y', prob_survival_2y, prob_survival_2y*100],\n",
    "        ['3y', prob_survival_3y, prob_survival_3y*100], \n",
    "        ['4y', prob_survival_4y, prob_survival_4y*100], \n",
    "        ['5y', prob_survival_5y, prob_survival_5y*100]] \n",
    "df = pd.DataFrame(data, columns=['Year', 'Prob. Survival', '% Prob. Survival'])\n",
    "df = df.style.set_caption('Probability of survival')\n",
    "df\n"
   ]
  },
  {
   "cell_type": "markdown",
   "metadata": {},
   "source": [
    "---"
   ]
  },
  {
   "cell_type": "code",
   "execution_count": 48,
   "metadata": {},
   "outputs": [
    {
     "data": {
      "text/plain": [
       "(0.06800000000000013, 0.09599999999999999)"
      ]
     },
     "execution_count": 48,
     "metadata": {},
     "output_type": "execute_result"
    }
   ],
   "source": [
    "# r = 0.03  # Tasso di interesse zero-coupon annuale\n",
    "# recovery_rate = 0.4  # Tasso di recupero\n",
    "# LGD = 1 - recovery_rate  # Loss Given Default\n",
    "# spread = 0.01  # Spread del CDS, che è pari al tasso di cedola annuale\n",
    "# n3Y = 3  # Numero di periodi di pagamento fino alla scadenza del CDS a 3 anni\n",
    "# n5Y = 5  # Numero di periodi di pagamento fino alla scadenza del CDS a 5 anni\n",
    "# upfront_observed_3y = 0.068  # Premio upfront osservato per il CDS a 3 anni\n",
    "# upfront_observed_5y = 0.096  # Premio upfront osservato per il CDS a 5 anni\n",
    "\n",
    "# # Definisco la funzione per il prezzo di uno zero-coupon bond\n",
    "# def zero_coupon_bond_price(r, t):\n",
    "#     return np.exp(-r * t)\n",
    "\n",
    "# Definisco la funzione per calcolare il valore attuale del premio upfront per il CDS a 3 anni\n",
    "def pv_upfront_3y(lambda_3Y):\n",
    "    pv_loss = sum([zero_coupon_bond_price(r, i) * (np.exp(-lambda_3Y * (i - 1)) - np.exp(-lambda_3Y * i)) for i in range(1, n3Y + 1)])\n",
    "    pv_cedole = sum([spread * zero_coupon_bond_price(r, i) * np.exp(-lambda_3Y * i) for i in range(1, n3Y + 1)])\n",
    "    return LGD * pv_loss - pv_cedole - upfront_observed_3y\n",
    "\n",
    "# Calcolo lambda_3Y usando fsolve\n",
    "lambda_3Y_initial_guess = 0.1\n",
    "lambda_3Y_solution = fsolve(pv_upfront_3y, lambda_3Y_initial_guess)\n",
    "lambda_3Y = lambda_3Y_solution[0]\n",
    "\n",
    "# Definisco la funzione per calcolare il valore attuale del premio upfront per il CDS a 5 anni\n",
    "def pv_upfront_5y(lambda_5Y):\n",
    "    pv_loss_3y = sum([zero_coupon_bond_price(r, i) * (np.exp(-lambda_3Y * (i - 1)) - np.exp(-lambda_3Y * i)) for i in range(1, n3Y + 1)])\n",
    "    pv_cedole_3y = sum([spread * zero_coupon_bond_price(r, i) * np.exp(-lambda_3Y * i) for i in range(1, n3Y + 1)])\n",
    "    pv_loss_5y = sum([zero_coupon_bond_price(r, i) * (np.exp(-lambda_5Y * (i - 1)) - np.exp(-lambda_5Y * i)) for i in range(n3Y + 1, n5Y + 1)])\n",
    "    pv_cedole_5y = sum([spread * zero_coupon_bond_price(r, i) * np.exp(-lambda_5Y * i) for i in range(n3Y + 1, n5Y + 1)])\n",
    "    return LGD * (pv_loss_3y + pv_loss_5y) - (pv_cedole_3y + pv_cedole_5y) - upfront_observed_5y\n",
    "\n",
    "# Calcolo lambda_5Y usando fsolve\n",
    "lambda_5Y_initial_guess = 0.1\n",
    "lambda_5Y_solution = fsolve(pv_upfront_5y, lambda_5Y_initial_guess)\n",
    "lambda_5Y = lambda_5Y_solution[0]\n",
    "\n",
    "\n",
    "# lambda_3Y, lambda_5Y \n",
    "\n",
    "# Calcolo e stampo i valori del premio upfront calcolati\n",
    "upfront_3y_calculated = pv_upfront_3y(lambda_3Y) + upfront_observed_3y\n",
    "upfront_5y_calculated = pv_upfront_5y(lambda_5Y) + upfront_observed_5y\n",
    "\n",
    "upfront_3y_calculated, upfront_5y_calculated\n"
   ]
  },
  {
   "cell_type": "code",
   "execution_count": 49,
   "metadata": {},
   "outputs": [
    {
     "data": {
      "text/plain": [
       "(5.993478603980348, 4.868322413146313)"
      ]
     },
     "execution_count": 49,
     "metadata": {},
     "output_type": "execute_result"
    }
   ],
   "source": [
    "lambda_3Y*100, lambda_5Y*100"
   ]
  },
  {
   "cell_type": "code",
   "execution_count": 50,
   "metadata": {},
   "outputs": [
    {
     "data": {
      "text/plain": [
       "(0.068, 0.06800000000000013, 1.249000902703301e-16)"
      ]
     },
     "execution_count": 50,
     "metadata": {},
     "output_type": "execute_result"
    }
   ],
   "source": [
    "upfront_observed_3y, upfront_3y_calculated, upfront_3y_calculated-upfront_observed_3y"
   ]
  },
  {
   "cell_type": "code",
   "execution_count": 51,
   "metadata": {},
   "outputs": [
    {
     "data": {
      "text/plain": [
       "(0.096, 0.09599999999999999, -1.3877787807814457e-17)"
      ]
     },
     "execution_count": 51,
     "metadata": {},
     "output_type": "execute_result"
    }
   ],
   "source": [
    "upfront_observed_5y, upfront_5y_calculated, upfront_5y_calculated-upfront_observed_5y"
   ]
  },
  {
   "cell_type": "markdown",
   "metadata": {},
   "source": [
    "---"
   ]
  },
  {
   "cell_type": "markdown",
   "metadata": {},
   "source": [
    "---"
   ]
  },
  {
   "cell_type": "markdown",
   "metadata": {},
   "source": [
    "Il valore di un'opzione call nel modello di Bachelier è dato da:\n",
    "$C = (S_0 - K) \\cdot N(d_1) + \\sigma \\cdot \\sqrt{T} \\cdot n(d_1)$\n",
    "\n",
    "dove:\n",
    "- $S_0$ è il prezzo corrente del sottostante.\n",
    "- $K$ è il prezzo di esercizio.\n",
    "- $N(d)$ è la funzione di distribuzione cumulativa normale standard.\n",
    "- $n(d)$ è la funzione di densità di probabilità normale standard.\n",
    "- $d_1 = \\frac{S_0 - K}{\\sigma \\sqrt{T}}$.\n",
    "- $\\sigma$ è la volatilità del sottostante.\n",
    "- $T$ è il tempo alla scadenza.\n",
    "\n",
    "La formula per il CVA sarà poi:\n",
    "$CVA = LGD \\cdot (C \\cdot e^{-rT})$"
   ]
  },
  {
   "cell_type": "code",
   "execution_count": 52,
   "metadata": {},
   "outputs": [],
   "source": [
    "# Definizione dei parametri di base per il calcolo del CVA\n",
    "r = 0.03  # Tasso di interesse zero-coupon annuale da Parte I\n",
    "lgd = 0.60  # Loss Given Default\n",
    "X0 = 2000  # Valore iniziale del sottostante\n",
    "sigma_X = 300  # Volatilità del sottostante in termini annuali\n",
    "K = 1900  # Prezzo di esercizio del forward\n",
    "T = 1  # Maturità del forward in anni"
   ]
  },
  {
   "cell_type": "code",
   "execution_count": 53,
   "metadata": {},
   "outputs": [
    {
     "data": {
      "text/plain": [
       "102.63674629879772"
      ]
     },
     "execution_count": 53,
     "metadata": {},
     "output_type": "execute_result"
    }
   ],
   "source": [
    "# Calcolo di d1 nel modello di Bachelier\n",
    "d1 = (X0 - K) / (sigma_X * np.sqrt(T))\n",
    "\n",
    "# Calcolo del prezzo di un'opzione call nel modello di Bachelier\n",
    "C = (X0 - K) * norm.cdf(d1) + sigma_X * np.sqrt(T) * norm.pdf(d1)\n",
    "\n",
    "# Calcolo del CVA usando la formula chiusa\n",
    "CVA = lgd * C * np.exp(-r * T)\n",
    "\n",
    "CVA\n"
   ]
  },
  {
   "cell_type": "code",
   "execution_count": 54,
   "metadata": {},
   "outputs": [
    {
     "data": {
      "text/plain": [
       "(102.09185998226981, 103.88260836515776, 102.98723417371379)"
      ]
     },
     "execution_count": 54,
     "metadata": {},
     "output_type": "execute_result"
    }
   ],
   "source": [
    "# Numero di simulazioni Monte Carlo per il calcolo dell'intervallo di confidenza\n",
    "num_simulations = 100000\n",
    "\n",
    "# Simulazione dei percorsi del sottostante al tempo T usando il modello di Bachelier\n",
    "XT_simulated = X0 + sigma_X * np.random.normal(0, np.sqrt(T), num_simulations)\n",
    "\n",
    "# Calcolo dei payoff del forward per ciascun percorso\n",
    "payoffs = np.maximum(XT_simulated - K, 0)\n",
    "\n",
    "# Calcolo del valore attuale dei payoffs scontati al tasso r\n",
    "pv_payoffs = payoffs * np.exp(-r * T)\n",
    "\n",
    "# Calcolo del CVA come LGD * valore attuale medio del payoff\n",
    "CVA_simulated = lgd * pv_payoffs\n",
    "\n",
    "# Calcolo della media e della deviazione standard dei CVA simulati\n",
    "CVA_mean = np.mean(CVA_simulated)\n",
    "CVA_std = np.std(CVA_simulated)\n",
    "\n",
    "# Calcolo dell'intervallo di confidenza al 98% per il CVA\n",
    "confidence_level = 0.98\n",
    "z_score = norm.ppf((1 + confidence_level) / 2)  # Z-score per il livello di confidenza del 98%\n",
    "margin_of_error = z_score * CVA_std / np.sqrt(num_simulations)\n",
    "\n",
    "# Intervallo di confidenza inferiore e superiore\n",
    "ci_lower = CVA_mean - margin_of_error\n",
    "ci_upper = CVA_mean + margin_of_error\n",
    "\n",
    "(ci_lower, ci_upper, CVA_mean)"
   ]
  }
 ],
 "metadata": {
  "kernelspec": {
   "display_name": "Python 3",
   "language": "python",
   "name": "python3"
  },
  "language_info": {
   "codemirror_mode": {
    "name": "ipython",
    "version": 3
   },
   "file_extension": ".py",
   "mimetype": "text/x-python",
   "name": "python",
   "nbconvert_exporter": "python",
   "pygments_lexer": "ipython3",
   "version": "3.11.3"
  }
 },
 "nbformat": 4,
 "nbformat_minor": 2
}
